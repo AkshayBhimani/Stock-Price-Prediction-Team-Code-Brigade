{
  "nbformat": 4,
  "nbformat_minor": 0,
  "metadata": {
    "kernelspec": {
      "display_name": "Python 3",
      "language": "python",
      "name": "python3"
    },
    "language_info": {
      "codemirror_mode": {
        "name": "ipython",
        "version": 3
      },
      "file_extension": ".py",
      "mimetype": "text/x-python",
      "name": "python",
      "nbconvert_exporter": "python",
      "pygments_lexer": "ipython3",
      "version": "3.7.4"
    },
    "colab": {
      "name": "predict_stock_market.ipynb",
      "provenance": [],
      "toc_visible": true
    }
  },
  "cells": [
    {
      "cell_type": "code",
      "metadata": {
        "id": "70tnJVrauAVL"
      },
      "source": [
        "import pandas as pd\n",
        "import numpy as np\n",
        "from sklearn import metrics\n",
        "%matplotlib inline\n",
        "import matplotlib.pyplot as plt\n"
      ],
      "execution_count": 1,
      "outputs": []
    },
    {
      "cell_type": "code",
      "metadata": {
        "id": "fPRbUdR9uAVi"
      },
      "source": [
        "dataset=pd.read_csv('./TCS_final_2010-21_Daily.csv')\n"
      ],
      "execution_count": 4,
      "outputs": []
    },
    {
      "cell_type": "code",
      "metadata": {
        "colab": {
          "base_uri": "https://localhost:8080/",
          "height": 197
        },
        "id": "IQ4LOlHcuAVk",
        "outputId": "3028b94f-0bc4-4edf-d1bc-31af86ace5f3"
      },
      "source": [
        "dataset.head()"
      ],
      "execution_count": 5,
      "outputs": [
        {
          "output_type": "execute_result",
          "data": {
            "text/html": [
              "<div>\n",
              "<style scoped>\n",
              "    .dataframe tbody tr th:only-of-type {\n",
              "        vertical-align: middle;\n",
              "    }\n",
              "\n",
              "    .dataframe tbody tr th {\n",
              "        vertical-align: top;\n",
              "    }\n",
              "\n",
              "    .dataframe thead th {\n",
              "        text-align: right;\n",
              "    }\n",
              "</style>\n",
              "<table border=\"1\" class=\"dataframe\">\n",
              "  <thead>\n",
              "    <tr style=\"text-align: right;\">\n",
              "      <th></th>\n",
              "      <th>Date</th>\n",
              "      <th>DateValue</th>\n",
              "      <th>Open</th>\n",
              "      <th>High</th>\n",
              "      <th>Low</th>\n",
              "      <th>Close</th>\n",
              "      <th>Adj Close</th>\n",
              "      <th>Volume</th>\n",
              "    </tr>\n",
              "  </thead>\n",
              "  <tbody>\n",
              "    <tr>\n",
              "      <th>0</th>\n",
              "      <td>2010-01-04</td>\n",
              "      <td>40182</td>\n",
              "      <td>377.399994</td>\n",
              "      <td>379.450012</td>\n",
              "      <td>374.524994</td>\n",
              "      <td>375.825012</td>\n",
              "      <td>302.451019</td>\n",
              "      <td>1963682.0</td>\n",
              "    </tr>\n",
              "    <tr>\n",
              "      <th>1</th>\n",
              "      <td>2010-01-05</td>\n",
              "      <td>40183</td>\n",
              "      <td>377.500000</td>\n",
              "      <td>379.774994</td>\n",
              "      <td>373.274994</td>\n",
              "      <td>375.924988</td>\n",
              "      <td>302.531525</td>\n",
              "      <td>2014488.0</td>\n",
              "    </tr>\n",
              "    <tr>\n",
              "      <th>2</th>\n",
              "      <td>2010-01-06</td>\n",
              "      <td>40184</td>\n",
              "      <td>375.924988</td>\n",
              "      <td>376.100006</td>\n",
              "      <td>366.500000</td>\n",
              "      <td>367.424988</td>\n",
              "      <td>295.690979</td>\n",
              "      <td>3349176.0</td>\n",
              "    </tr>\n",
              "    <tr>\n",
              "      <th>3</th>\n",
              "      <td>2010-01-07</td>\n",
              "      <td>40185</td>\n",
              "      <td>367.750000</td>\n",
              "      <td>369.700012</td>\n",
              "      <td>355.500000</td>\n",
              "      <td>357.200012</td>\n",
              "      <td>287.462311</td>\n",
              "      <td>6474892.0</td>\n",
              "    </tr>\n",
              "    <tr>\n",
              "      <th>4</th>\n",
              "      <td>2010-01-08</td>\n",
              "      <td>40186</td>\n",
              "      <td>358.000000</td>\n",
              "      <td>359.250000</td>\n",
              "      <td>348.250000</td>\n",
              "      <td>349.899994</td>\n",
              "      <td>281.587463</td>\n",
              "      <td>6048178.0</td>\n",
              "    </tr>\n",
              "  </tbody>\n",
              "</table>\n",
              "</div>"
            ],
            "text/plain": [
              "         Date  DateValue        Open  ...       Close   Adj Close     Volume\n",
              "0  2010-01-04      40182  377.399994  ...  375.825012  302.451019  1963682.0\n",
              "1  2010-01-05      40183  377.500000  ...  375.924988  302.531525  2014488.0\n",
              "2  2010-01-06      40184  375.924988  ...  367.424988  295.690979  3349176.0\n",
              "3  2010-01-07      40185  367.750000  ...  357.200012  287.462311  6474892.0\n",
              "4  2010-01-08      40186  358.000000  ...  349.899994  281.587463  6048178.0\n",
              "\n",
              "[5 rows x 8 columns]"
            ]
          },
          "metadata": {
            "tags": []
          },
          "execution_count": 5
        }
      ]
    },
    {
      "cell_type": "code",
      "metadata": {
        "id": "JH2XzcOduAVn"
      },
      "source": [
        "dataset['Date'] = pd.to_datetime(dataset.Date)"
      ],
      "execution_count": 6,
      "outputs": []
    },
    {
      "cell_type": "code",
      "metadata": {
        "colab": {
          "base_uri": "https://localhost:8080/"
        },
        "id": "_Pc2lueFuAVo",
        "outputId": "72c89fc5-1236-460a-a156-ebfae18ff928"
      },
      "source": [
        "dataset.shape"
      ],
      "execution_count": 7,
      "outputs": [
        {
          "output_type": "execute_result",
          "data": {
            "text/plain": [
              "(2751, 8)"
            ]
          },
          "metadata": {
            "tags": []
          },
          "execution_count": 7
        }
      ]
    },
    {
      "cell_type": "code",
      "metadata": {
        "id": "e5Yxz8gruAVp"
      },
      "source": [
        "# dataset.drop('Adj Close',axis = 1, inplace = True)\r\n",
        "dataset.drop('DateValue',axis = 1, inplace = True)"
      ],
      "execution_count": 10,
      "outputs": []
    },
    {
      "cell_type": "code",
      "metadata": {
        "colab": {
          "base_uri": "https://localhost:8080/",
          "height": 197
        },
        "id": "Ej6VFTwXuAVp",
        "outputId": "0d78c3a6-6d28-4366-af8f-8c266188fc5b"
      },
      "source": [
        "dataset.head()"
      ],
      "execution_count": 11,
      "outputs": [
        {
          "output_type": "execute_result",
          "data": {
            "text/html": [
              "<div>\n",
              "<style scoped>\n",
              "    .dataframe tbody tr th:only-of-type {\n",
              "        vertical-align: middle;\n",
              "    }\n",
              "\n",
              "    .dataframe tbody tr th {\n",
              "        vertical-align: top;\n",
              "    }\n",
              "\n",
              "    .dataframe thead th {\n",
              "        text-align: right;\n",
              "    }\n",
              "</style>\n",
              "<table border=\"1\" class=\"dataframe\">\n",
              "  <thead>\n",
              "    <tr style=\"text-align: right;\">\n",
              "      <th></th>\n",
              "      <th>Date</th>\n",
              "      <th>Open</th>\n",
              "      <th>High</th>\n",
              "      <th>Low</th>\n",
              "      <th>Close</th>\n",
              "      <th>Volume</th>\n",
              "    </tr>\n",
              "  </thead>\n",
              "  <tbody>\n",
              "    <tr>\n",
              "      <th>0</th>\n",
              "      <td>2010-01-04</td>\n",
              "      <td>377.399994</td>\n",
              "      <td>379.450012</td>\n",
              "      <td>374.524994</td>\n",
              "      <td>375.825012</td>\n",
              "      <td>1963682.0</td>\n",
              "    </tr>\n",
              "    <tr>\n",
              "      <th>1</th>\n",
              "      <td>2010-01-05</td>\n",
              "      <td>377.500000</td>\n",
              "      <td>379.774994</td>\n",
              "      <td>373.274994</td>\n",
              "      <td>375.924988</td>\n",
              "      <td>2014488.0</td>\n",
              "    </tr>\n",
              "    <tr>\n",
              "      <th>2</th>\n",
              "      <td>2010-01-06</td>\n",
              "      <td>375.924988</td>\n",
              "      <td>376.100006</td>\n",
              "      <td>366.500000</td>\n",
              "      <td>367.424988</td>\n",
              "      <td>3349176.0</td>\n",
              "    </tr>\n",
              "    <tr>\n",
              "      <th>3</th>\n",
              "      <td>2010-01-07</td>\n",
              "      <td>367.750000</td>\n",
              "      <td>369.700012</td>\n",
              "      <td>355.500000</td>\n",
              "      <td>357.200012</td>\n",
              "      <td>6474892.0</td>\n",
              "    </tr>\n",
              "    <tr>\n",
              "      <th>4</th>\n",
              "      <td>2010-01-08</td>\n",
              "      <td>358.000000</td>\n",
              "      <td>359.250000</td>\n",
              "      <td>348.250000</td>\n",
              "      <td>349.899994</td>\n",
              "      <td>6048178.0</td>\n",
              "    </tr>\n",
              "  </tbody>\n",
              "</table>\n",
              "</div>"
            ],
            "text/plain": [
              "        Date        Open        High         Low       Close     Volume\n",
              "0 2010-01-04  377.399994  379.450012  374.524994  375.825012  1963682.0\n",
              "1 2010-01-05  377.500000  379.774994  373.274994  375.924988  2014488.0\n",
              "2 2010-01-06  375.924988  376.100006  366.500000  367.424988  3349176.0\n",
              "3 2010-01-07  367.750000  369.700012  355.500000  357.200012  6474892.0\n",
              "4 2010-01-08  358.000000  359.250000  348.250000  349.899994  6048178.0"
            ]
          },
          "metadata": {
            "tags": []
          },
          "execution_count": 11
        }
      ]
    },
    {
      "cell_type": "code",
      "metadata": {
        "colab": {
          "base_uri": "https://localhost:8080/"
        },
        "id": "z6RUPC2WuAVs",
        "outputId": "8b15044c-3861-47f5-f121-c893b737df96"
      },
      "source": [
        "dataset.isnull().sum()"
      ],
      "execution_count": 12,
      "outputs": [
        {
          "output_type": "execute_result",
          "data": {
            "text/plain": [
              "Date      0\n",
              "Open      0\n",
              "High      0\n",
              "Low       0\n",
              "Close     0\n",
              "Volume    0\n",
              "dtype: int64"
            ]
          },
          "metadata": {
            "tags": []
          },
          "execution_count": 12
        }
      ]
    },
    {
      "cell_type": "code",
      "metadata": {
        "colab": {
          "base_uri": "https://localhost:8080/"
        },
        "id": "KghKK2hzuAVx",
        "outputId": "f82934ca-7cd5-4ff6-f4e2-34466b1d60d1"
      },
      "source": [
        "dataset.isna().any()"
      ],
      "execution_count": 13,
      "outputs": [
        {
          "output_type": "execute_result",
          "data": {
            "text/plain": [
              "Date      False\n",
              "Open      False\n",
              "High      False\n",
              "Low       False\n",
              "Close     False\n",
              "Volume    False\n",
              "dtype: bool"
            ]
          },
          "metadata": {
            "tags": []
          },
          "execution_count": 13
        }
      ]
    },
    {
      "cell_type": "code",
      "metadata": {
        "colab": {
          "base_uri": "https://localhost:8080/"
        },
        "id": "oCRdQLcOuAVy",
        "outputId": "1e77df13-2c96-4285-99a0-02e900ba4082"
      },
      "source": [
        "dataset.info()"
      ],
      "execution_count": 14,
      "outputs": [
        {
          "output_type": "stream",
          "text": [
            "<class 'pandas.core.frame.DataFrame'>\n",
            "RangeIndex: 2751 entries, 0 to 2750\n",
            "Data columns (total 6 columns):\n",
            " #   Column  Non-Null Count  Dtype         \n",
            "---  ------  --------------  -----         \n",
            " 0   Date    2751 non-null   datetime64[ns]\n",
            " 1   Open    2751 non-null   float64       \n",
            " 2   High    2751 non-null   float64       \n",
            " 3   Low     2751 non-null   float64       \n",
            " 4   Close   2751 non-null   float64       \n",
            " 5   Volume  2751 non-null   float64       \n",
            "dtypes: datetime64[ns](1), float64(5)\n",
            "memory usage: 129.1 KB\n"
          ],
          "name": "stdout"
        }
      ]
    },
    {
      "cell_type": "code",
      "metadata": {
        "colab": {
          "base_uri": "https://localhost:8080/",
          "height": 287
        },
        "id": "BEP_37_UuAVz",
        "outputId": "c7f85c0d-d229-410b-9908-29128e70f8da"
      },
      "source": [
        "dataset.describe()"
      ],
      "execution_count": 15,
      "outputs": [
        {
          "output_type": "execute_result",
          "data": {
            "text/html": [
              "<div>\n",
              "<style scoped>\n",
              "    .dataframe tbody tr th:only-of-type {\n",
              "        vertical-align: middle;\n",
              "    }\n",
              "\n",
              "    .dataframe tbody tr th {\n",
              "        vertical-align: top;\n",
              "    }\n",
              "\n",
              "    .dataframe thead th {\n",
              "        text-align: right;\n",
              "    }\n",
              "</style>\n",
              "<table border=\"1\" class=\"dataframe\">\n",
              "  <thead>\n",
              "    <tr style=\"text-align: right;\">\n",
              "      <th></th>\n",
              "      <th>Open</th>\n",
              "      <th>High</th>\n",
              "      <th>Low</th>\n",
              "      <th>Close</th>\n",
              "      <th>Volume</th>\n",
              "    </tr>\n",
              "  </thead>\n",
              "  <tbody>\n",
              "    <tr>\n",
              "      <th>count</th>\n",
              "      <td>2751.000000</td>\n",
              "      <td>2751.000000</td>\n",
              "      <td>2751.000000</td>\n",
              "      <td>2751.000000</td>\n",
              "      <td>2.751000e+03</td>\n",
              "    </tr>\n",
              "    <tr>\n",
              "      <th>mean</th>\n",
              "      <td>1256.284841</td>\n",
              "      <td>1270.140219</td>\n",
              "      <td>1241.625939</td>\n",
              "      <td>1255.768349</td>\n",
              "      <td>2.903509e+06</td>\n",
              "    </tr>\n",
              "    <tr>\n",
              "      <th>std</th>\n",
              "      <td>641.777959</td>\n",
              "      <td>648.474233</td>\n",
              "      <td>634.099285</td>\n",
              "      <td>640.998765</td>\n",
              "      <td>2.424003e+06</td>\n",
              "    </tr>\n",
              "    <tr>\n",
              "      <th>min</th>\n",
              "      <td>352.000000</td>\n",
              "      <td>357.000000</td>\n",
              "      <td>342.625000</td>\n",
              "      <td>349.774994</td>\n",
              "      <td>8.682200e+04</td>\n",
              "    </tr>\n",
              "    <tr>\n",
              "      <th>25%</th>\n",
              "      <td>645.049988</td>\n",
              "      <td>651.600006</td>\n",
              "      <td>639.299988</td>\n",
              "      <td>644.787476</td>\n",
              "      <td>1.774601e+06</td>\n",
              "    </tr>\n",
              "    <tr>\n",
              "      <th>50%</th>\n",
              "      <td>1217.449951</td>\n",
              "      <td>1227.525024</td>\n",
              "      <td>1206.099976</td>\n",
              "      <td>1216.699951</td>\n",
              "      <td>2.429205e+06</td>\n",
              "    </tr>\n",
              "    <tr>\n",
              "      <th>75%</th>\n",
              "      <td>1725.487488</td>\n",
              "      <td>1750.950012</td>\n",
              "      <td>1703.500000</td>\n",
              "      <td>1725.687500</td>\n",
              "      <td>3.433938e+06</td>\n",
              "    </tr>\n",
              "    <tr>\n",
              "      <th>max</th>\n",
              "      <td>3308.949951</td>\n",
              "      <td>3339.800049</td>\n",
              "      <td>3278.649902</td>\n",
              "      <td>3308.800049</td>\n",
              "      <td>8.806715e+07</td>\n",
              "    </tr>\n",
              "  </tbody>\n",
              "</table>\n",
              "</div>"
            ],
            "text/plain": [
              "              Open         High          Low        Close        Volume\n",
              "count  2751.000000  2751.000000  2751.000000  2751.000000  2.751000e+03\n",
              "mean   1256.284841  1270.140219  1241.625939  1255.768349  2.903509e+06\n",
              "std     641.777959   648.474233   634.099285   640.998765  2.424003e+06\n",
              "min     352.000000   357.000000   342.625000   349.774994  8.682200e+04\n",
              "25%     645.049988   651.600006   639.299988   644.787476  1.774601e+06\n",
              "50%    1217.449951  1227.525024  1206.099976  1216.699951  2.429205e+06\n",
              "75%    1725.487488  1750.950012  1703.500000  1725.687500  3.433938e+06\n",
              "max    3308.949951  3339.800049  3278.649902  3308.800049  8.806715e+07"
            ]
          },
          "metadata": {
            "tags": []
          },
          "execution_count": 15
        }
      ]
    },
    {
      "cell_type": "code",
      "metadata": {
        "colab": {
          "base_uri": "https://localhost:8080/"
        },
        "id": "KJaeyFJsuAV0",
        "outputId": "e3d0491c-edf0-4489-f371-84232c533243"
      },
      "source": [
        "print(len(dataset))"
      ],
      "execution_count": 16,
      "outputs": [
        {
          "output_type": "stream",
          "text": [
            "2751\n"
          ],
          "name": "stdout"
        }
      ]
    },
    {
      "cell_type": "code",
      "metadata": {
        "colab": {
          "base_uri": "https://localhost:8080/",
          "height": 392
        },
        "id": "cwTGZ7eXuAV0",
        "outputId": "5e2dfe98-ad28-4e64-8ce5-86f248163b16"
      },
      "source": [
        "dataset['Open'].plot(figsize=(16,6))"
      ],
      "execution_count": 17,
      "outputs": [
        {
          "output_type": "execute_result",
          "data": {
            "text/plain": [
              "<matplotlib.axes._subplots.AxesSubplot at 0x7f93d4b0cbd0>"
            ]
          },
          "metadata": {
            "tags": []
          },
          "execution_count": 17
        },
        {
          "output_type": "display_data",
          "data": {
            "image/png": "[encoded data removed]",
            "text/plain": [
              "<Figure size 1152x432 with 1 Axes>"
            ]
          },
          "metadata": {
            "tags": [],
            "needs_background": "light"
          }
        }
      ]
    },
    {
      "cell_type": "code",
      "metadata": {
        "id": "EbEFQfaNuAV1"
      },
      "source": [
        "\n",
        "X  = dataset[['Open','High','Low','Volume']]\n",
        "y = dataset['Close']"
      ],
      "execution_count": 18,
      "outputs": []
    },
    {
      "cell_type": "code",
      "metadata": {
        "id": "_vh5Fe52uAV2"
      },
      "source": [
        "from sklearn.model_selection import train_test_split\n",
        "X_train , X_test , y_train , y_test = train_test_split(X ,y , random_state = 0)"
      ],
      "execution_count": 19,
      "outputs": []
    },
    {
      "cell_type": "code",
      "metadata": {
        "colab": {
          "base_uri": "https://localhost:8080/"
        },
        "id": "N7Cb-pwluAV3",
        "outputId": "b6459d82-2be3-402c-9ba1-cd36958f7518"
      },
      "source": [
        "X_train.shape"
      ],
      "execution_count": 20,
      "outputs": [
        {
          "output_type": "execute_result",
          "data": {
            "text/plain": [
              "(2063, 4)"
            ]
          },
          "metadata": {
            "tags": []
          },
          "execution_count": 20
        }
      ]
    },
    {
      "cell_type": "code",
      "metadata": {
        "colab": {
          "base_uri": "https://localhost:8080/"
        },
        "id": "iMr0-dMSuAV3",
        "outputId": "b3282fa4-9bca-4039-d51e-ab25c0b4da81"
      },
      "source": [
        "X_test.shape"
      ],
      "execution_count": 21,
      "outputs": [
        {
          "output_type": "execute_result",
          "data": {
            "text/plain": [
              "(688, 4)"
            ]
          },
          "metadata": {
            "tags": []
          },
          "execution_count": 21
        }
      ]
    },
    {
      "cell_type": "code",
      "metadata": {
        "id": "S8uigpnJuAV4"
      },
      "source": [
        "from sklearn.linear_model import LinearRegression\n",
        "from sklearn.metrics import confusion_matrix, accuracy_score\n",
        "regressor = LinearRegression()"
      ],
      "execution_count": 22,
      "outputs": []
    },
    {
      "cell_type": "code",
      "metadata": {
        "colab": {
          "base_uri": "https://localhost:8080/"
        },
        "id": "2N7B9YJLuAV5",
        "outputId": "d13b257c-7251-44ff-d287-851001d86942"
      },
      "source": [
        "regressor.fit(X_train,y_train)"
      ],
      "execution_count": 23,
      "outputs": [
        {
          "output_type": "execute_result",
          "data": {
            "text/plain": [
              "LinearRegression(copy_X=True, fit_intercept=True, n_jobs=None, normalize=False)"
            ]
          },
          "metadata": {
            "tags": []
          },
          "execution_count": 23
        }
      ]
    },
    {
      "cell_type": "code",
      "metadata": {
        "colab": {
          "base_uri": "https://localhost:8080/"
        },
        "id": "po8Mqm8cuAV5",
        "outputId": "96fdef33-03fd-415b-94d7-5b2a2703ea20"
      },
      "source": [
        "print(regressor.coef_)"
      ],
      "execution_count": 24,
      "outputs": [
        {
          "output_type": "stream",
          "text": [
            "[-4.74595959e-01  8.12123341e-01  6.60679383e-01 -2.23520165e-07]\n"
          ],
          "name": "stdout"
        }
      ]
    },
    {
      "cell_type": "code",
      "metadata": {
        "colab": {
          "base_uri": "https://localhost:8080/"
        },
        "id": "KKmzbyd3uAV6",
        "outputId": "30131723-781c-4073-e5b7-e6db17f8ee39"
      },
      "source": [
        "print(regressor.intercept_)"
      ],
      "execution_count": 25,
      "outputs": [
        {
          "output_type": "stream",
          "text": [
            "0.9176639072134094\n"
          ],
          "name": "stdout"
        }
      ]
    },
    {
      "cell_type": "code",
      "metadata": {
        "id": "gDfKWg5IuAV6"
      },
      "source": [
        "predicted=regressor.predict(X_test)"
      ],
      "execution_count": 26,
      "outputs": []
    },
    {
      "cell_type": "code",
      "metadata": {
        "colab": {
          "base_uri": "https://localhost:8080/"
        },
        "id": "BG0oh_AKuAV8",
        "outputId": "9d7d18aa-42a0-4a5a-d44e-76a21601bcc0"
      },
      "source": [
        "print(X_test)"
      ],
      "execution_count": 27,
      "outputs": [
        {
          "output_type": "stream",
          "text": [
            "         Open         High          Low     Volume\n",
            "764    672.00   676.000000   671.075012  1484540.0\n",
            "2402  2080.00  2094.500000  2041.000000  2177916.0\n",
            "396    565.25   567.000000   561.125000  2025292.0\n",
            "2325  2264.00  2285.000000  2243.050049  3320916.0\n",
            "2203  1970.00  2010.000000  1961.000000  2942014.0\n",
            "...       ...          ...          ...        ...\n",
            "1962  1268.50  1294.474976  1247.175049  2180664.0\n",
            "1544  1216.50  1258.500000  1206.500000  2400648.0\n",
            "1256  1276.50  1297.400024  1275.425049  2136416.0\n",
            "1768  1251.00  1260.000000  1246.099976  1791510.0\n",
            "878    840.00   846.150024   822.000000  3445532.0\n",
            "\n",
            "[688 rows x 4 columns]\n"
          ],
          "name": "stdout"
        }
      ]
    },
    {
      "cell_type": "code",
      "metadata": {
        "colab": {
          "base_uri": "https://localhost:8080/"
        },
        "id": "7bCKVXnsuAV-",
        "outputId": "4a726da8-e55b-4541-ef74-23a946fdf140"
      },
      "source": [
        "predicted.shape"
      ],
      "execution_count": 28,
      "outputs": [
        {
          "output_type": "execute_result",
          "data": {
            "text/plain": [
              "(688,)"
            ]
          },
          "metadata": {
            "tags": []
          },
          "execution_count": 28
        }
      ]
    },
    {
      "cell_type": "code",
      "metadata": {
        "id": "Dw_KOahNuAV_"
      },
      "source": [
        "dframe=pd.DataFrame(y_test,predicted)"
      ],
      "execution_count": 29,
      "outputs": []
    },
    {
      "cell_type": "code",
      "metadata": {
        "id": "BT2uhXeouAWA"
      },
      "source": [
        "dfr=pd.DataFrame({'Actual':y_test,'Predicted':predicted})"
      ],
      "execution_count": 30,
      "outputs": []
    },
    {
      "cell_type": "code",
      "metadata": {
        "colab": {
          "base_uri": "https://localhost:8080/"
        },
        "id": "5jRp9J-5uAWB",
        "outputId": "1bc62f58-3bd2-481c-e152-e33b5fc94f33"
      },
      "source": [
        "print(dfr)"
      ],
      "execution_count": 31,
      "outputs": [
        {
          "output_type": "stream",
          "text": [
            "           Actual    Predicted\n",
            "764    674.049988   674.018158\n",
            "2402  2047.699951  2062.710219\n",
            "396    565.325012   563.397258\n",
            "2325  2254.100098  2263.328877\n",
            "2203  2000.000000  1993.266210\n",
            "...           ...          ...\n",
            "1962  1290.250000  1273.661452\n",
            "1544  1253.324951  1242.201987\n",
            "1256  1287.875000  1290.914267\n",
            "1768  1256.099976  1253.345653\n",
            "878    830.200012   831.743550\n",
            "\n",
            "[688 rows x 2 columns]\n"
          ],
          "name": "stdout"
        }
      ]
    },
    {
      "cell_type": "code",
      "metadata": {
        "colab": {
          "base_uri": "https://localhost:8080/",
          "height": 797
        },
        "id": "I1sZxC6-uAWC",
        "outputId": "f58dd939-5cf4-4306-c338-3483d933dba6"
      },
      "source": [
        "dfr.head(25)"
      ],
      "execution_count": 32,
      "outputs": [
        {
          "output_type": "execute_result",
          "data": {
            "text/html": [
              "<div>\n",
              "<style scoped>\n",
              "    .dataframe tbody tr th:only-of-type {\n",
              "        vertical-align: middle;\n",
              "    }\n",
              "\n",
              "    .dataframe tbody tr th {\n",
              "        vertical-align: top;\n",
              "    }\n",
              "\n",
              "    .dataframe thead th {\n",
              "        text-align: right;\n",
              "    }\n",
              "</style>\n",
              "<table border=\"1\" class=\"dataframe\">\n",
              "  <thead>\n",
              "    <tr style=\"text-align: right;\">\n",
              "      <th></th>\n",
              "      <th>Actual</th>\n",
              "      <th>Predicted</th>\n",
              "    </tr>\n",
              "  </thead>\n",
              "  <tbody>\n",
              "    <tr>\n",
              "      <th>764</th>\n",
              "      <td>674.049988</td>\n",
              "      <td>674.018158</td>\n",
              "    </tr>\n",
              "    <tr>\n",
              "      <th>2402</th>\n",
              "      <td>2047.699951</td>\n",
              "      <td>2062.710219</td>\n",
              "    </tr>\n",
              "    <tr>\n",
              "      <th>396</th>\n",
              "      <td>565.325012</td>\n",
              "      <td>563.397258</td>\n",
              "    </tr>\n",
              "    <tr>\n",
              "      <th>2325</th>\n",
              "      <td>2254.100098</td>\n",
              "      <td>2263.328877</td>\n",
              "    </tr>\n",
              "    <tr>\n",
              "      <th>2203</th>\n",
              "      <td>2000.000000</td>\n",
              "      <td>1993.266210</td>\n",
              "    </tr>\n",
              "    <tr>\n",
              "      <th>248</th>\n",
              "      <td>585.099976</td>\n",
              "      <td>584.329948</td>\n",
              "    </tr>\n",
              "    <tr>\n",
              "      <th>1455</th>\n",
              "      <td>1180.949951</td>\n",
              "      <td>1184.083552</td>\n",
              "    </tr>\n",
              "    <tr>\n",
              "      <th>195</th>\n",
              "      <td>496.424988</td>\n",
              "      <td>491.529816</td>\n",
              "    </tr>\n",
              "    <tr>\n",
              "      <th>2204</th>\n",
              "      <td>2016.800049</td>\n",
              "      <td>2004.236393</td>\n",
              "    </tr>\n",
              "    <tr>\n",
              "      <th>654</th>\n",
              "      <td>649.325012</td>\n",
              "      <td>648.528698</td>\n",
              "    </tr>\n",
              "    <tr>\n",
              "      <th>1687</th>\n",
              "      <td>1077.724976</td>\n",
              "      <td>1084.870468</td>\n",
              "    </tr>\n",
              "    <tr>\n",
              "      <th>1417</th>\n",
              "      <td>1322.300049</td>\n",
              "      <td>1315.896304</td>\n",
              "    </tr>\n",
              "    <tr>\n",
              "      <th>964</th>\n",
              "      <td>996.849976</td>\n",
              "      <td>1000.316452</td>\n",
              "    </tr>\n",
              "    <tr>\n",
              "      <th>2047</th>\n",
              "      <td>1692.824951</td>\n",
              "      <td>1692.164752</td>\n",
              "    </tr>\n",
              "    <tr>\n",
              "      <th>1087</th>\n",
              "      <td>1075.275024</td>\n",
              "      <td>1070.393190</td>\n",
              "    </tr>\n",
              "    <tr>\n",
              "      <th>1371</th>\n",
              "      <td>1248.525024</td>\n",
              "      <td>1246.879193</td>\n",
              "    </tr>\n",
              "    <tr>\n",
              "      <th>296</th>\n",
              "      <td>554.275024</td>\n",
              "      <td>553.225907</td>\n",
              "    </tr>\n",
              "    <tr>\n",
              "      <th>2652</th>\n",
              "      <td>2812.949951</td>\n",
              "      <td>2800.449142</td>\n",
              "    </tr>\n",
              "    <tr>\n",
              "      <th>1570</th>\n",
              "      <td>1264.650024</td>\n",
              "      <td>1272.613907</td>\n",
              "    </tr>\n",
              "    <tr>\n",
              "      <th>227</th>\n",
              "      <td>538.000000</td>\n",
              "      <td>537.072398</td>\n",
              "    </tr>\n",
              "    <tr>\n",
              "      <th>1721</th>\n",
              "      <td>1175.849976</td>\n",
              "      <td>1173.018737</td>\n",
              "    </tr>\n",
              "    <tr>\n",
              "      <th>2413</th>\n",
              "      <td>2082.000000</td>\n",
              "      <td>2077.739463</td>\n",
              "    </tr>\n",
              "    <tr>\n",
              "      <th>179</th>\n",
              "      <td>476.975006</td>\n",
              "      <td>473.100233</td>\n",
              "    </tr>\n",
              "    <tr>\n",
              "      <th>1632</th>\n",
              "      <td>1319.275024</td>\n",
              "      <td>1323.304352</td>\n",
              "    </tr>\n",
              "    <tr>\n",
              "      <th>446</th>\n",
              "      <td>560.125000</td>\n",
              "      <td>562.396468</td>\n",
              "    </tr>\n",
              "  </tbody>\n",
              "</table>\n",
              "</div>"
            ],
            "text/plain": [
              "           Actual    Predicted\n",
              "764    674.049988   674.018158\n",
              "2402  2047.699951  2062.710219\n",
              "396    565.325012   563.397258\n",
              "2325  2254.100098  2263.328877\n",
              "2203  2000.000000  1993.266210\n",
              "248    585.099976   584.329948\n",
              "1455  1180.949951  1184.083552\n",
              "195    496.424988   491.529816\n",
              "2204  2016.800049  2004.236393\n",
              "654    649.325012   648.528698\n",
              "1687  1077.724976  1084.870468\n",
              "1417  1322.300049  1315.896304\n",
              "964    996.849976  1000.316452\n",
              "2047  1692.824951  1692.164752\n",
              "1087  1075.275024  1070.393190\n",
              "1371  1248.525024  1246.879193\n",
              "296    554.275024   553.225907\n",
              "2652  2812.949951  2800.449142\n",
              "1570  1264.650024  1272.613907\n",
              "227    538.000000   537.072398\n",
              "1721  1175.849976  1173.018737\n",
              "2413  2082.000000  2077.739463\n",
              "179    476.975006   473.100233\n",
              "1632  1319.275024  1323.304352\n",
              "446    560.125000   562.396468"
            ]
          },
          "metadata": {
            "tags": []
          },
          "execution_count": 32
        }
      ]
    },
    {
      "cell_type": "code",
      "metadata": {
        "id": "gPlYXUseuAWC"
      },
      "source": [
        "from sklearn.metrics import confusion_matrix, accuracy_score\n"
      ],
      "execution_count": 33,
      "outputs": []
    },
    {
      "cell_type": "code",
      "metadata": {
        "colab": {
          "base_uri": "https://localhost:8080/"
        },
        "id": "cMozuIABuAWD",
        "outputId": "85f62fba-73b4-401a-b248-76eca1472a73"
      },
      "source": [
        "regressor.score(X_test,y_test)"
      ],
      "execution_count": 34,
      "outputs": [
        {
          "output_type": "execute_result",
          "data": {
            "text/plain": [
              "0.999798522577585"
            ]
          },
          "metadata": {
            "tags": []
          },
          "execution_count": 34
        }
      ]
    },
    {
      "cell_type": "code",
      "metadata": {
        "id": "BmrNTgSduAWE"
      },
      "source": [
        "import math"
      ],
      "execution_count": 35,
      "outputs": []
    },
    {
      "cell_type": "code",
      "metadata": {
        "colab": {
          "base_uri": "https://localhost:8080/"
        },
        "id": "CYXco_9luAWE",
        "outputId": "df7ec614-3126-4452-cb39-bf81463fe3e7"
      },
      "source": [
        "print('Mean Absolute Error:',metrics.mean_absolute_error(y_test,predicted))"
      ],
      "execution_count": 36,
      "outputs": [
        {
          "output_type": "stream",
          "text": [
            "Mean Absolute Error: 6.029678664432719\n"
          ],
          "name": "stdout"
        }
      ]
    },
    {
      "cell_type": "code",
      "metadata": {
        "colab": {
          "base_uri": "https://localhost:8080/"
        },
        "id": "t6taqbIRuAWF",
        "outputId": "1c71e7bf-8433-4776-9a1a-d21238386ff6"
      },
      "source": [
        "print('Mean Squared  Error:',metrics.mean_squared_error(y_test,predicted))"
      ],
      "execution_count": 37,
      "outputs": [
        {
          "output_type": "stream",
          "text": [
            "Mean Squared  Error: 84.29169386079361\n"
          ],
          "name": "stdout"
        }
      ]
    },
    {
      "cell_type": "code",
      "metadata": {
        "colab": {
          "base_uri": "https://localhost:8080/"
        },
        "id": "2bhBqf-vuAWF",
        "outputId": "febba92a-d3b2-46f6-ca7f-0ec1a6190b7f"
      },
      "source": [
        "print('Root Mean Squared Error:',math.sqrt(metrics.mean_squared_error(y_test,predicted)))"
      ],
      "execution_count": 38,
      "outputs": [
        {
          "output_type": "stream",
          "text": [
            "Root Mean Squared Error: 9.181050803736662\n"
          ],
          "name": "stdout"
        }
      ]
    },
    {
      "cell_type": "code",
      "metadata": {
        "id": "i7hr5jlFuAWJ"
      },
      "source": [
        "graph=dfr.head(20)"
      ],
      "execution_count": 39,
      "outputs": []
    },
    {
      "cell_type": "code",
      "metadata": {
        "colab": {
          "base_uri": "https://localhost:8080/",
          "height": 298
        },
        "id": "_KytpojguAWK",
        "outputId": "af899e37-1019-4a97-cae8-1d3c54f1d5f6"
      },
      "source": [
        "graph.plot(kind='bar')"
      ],
      "execution_count": 40,
      "outputs": [
        {
          "output_type": "execute_result",
          "data": {
            "text/plain": [
              "<matplotlib.axes._subplots.AxesSubplot at 0x7f93d4a53810>"
            ]
          },
          "metadata": {
            "tags": []
          },
          "execution_count": 40
        },
        {
          "output_type": "display_data",
          "data": {
            "image/png": "[encoded data removed]",
            "text/plain": [
              "<Figure size 432x288 with 1 Axes>"
            ]
          },
          "metadata": {
            "tags": [],
            "needs_background": "light"
          }
        }
      ]
    },
    {
      "cell_type": "code",
      "metadata": {
        "id": "7mx1FPhauAWL"
      },
      "source": [
        ""
      ],
      "execution_count": null,
      "outputs": []
    }
  ]
}